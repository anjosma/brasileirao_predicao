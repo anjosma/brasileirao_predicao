{
 "cells": [
  {
   "cell_type": "code",
   "execution_count": 1,
   "metadata": {},
   "outputs": [],
   "source": [
    "import pandas as pd\n",
    "import numpy as np\n",
    "import os\n",
    "import itertools\n",
    "pd.set_option(\"display.max_columns\", 999)"
   ]
  },
  {
   "cell_type": "code",
   "execution_count": 2,
   "metadata": {},
   "outputs": [
    {
     "data": {
      "text/html": [
       "<div>\n",
       "<style scoped>\n",
       "    .dataframe tbody tr th:only-of-type {\n",
       "        vertical-align: middle;\n",
       "    }\n",
       "\n",
       "    .dataframe tbody tr th {\n",
       "        vertical-align: top;\n",
       "    }\n",
       "\n",
       "    .dataframe thead th {\n",
       "        text-align: right;\n",
       "    }\n",
       "</style>\n",
       "<table border=\"1\" class=\"dataframe\">\n",
       "  <thead>\n",
       "    <tr style=\"text-align: right;\">\n",
       "      <th></th>\n",
       "      <th>Horário</th>\n",
       "      <th>Dia</th>\n",
       "      <th>Data</th>\n",
       "      <th>Clube_1</th>\n",
       "      <th>Clube_2</th>\n",
       "      <th>Vencedor</th>\n",
       "      <th>Rodada</th>\n",
       "      <th>Arena</th>\n",
       "      <th>Clube_1_Gols</th>\n",
       "      <th>Clube_2_Gols</th>\n",
       "      <th>Clube_1_Estado</th>\n",
       "      <th>Clube_2_Estado</th>\n",
       "      <th>Estado_Clube_Vencedor</th>\n",
       "    </tr>\n",
       "  </thead>\n",
       "  <tbody>\n",
       "    <tr>\n",
       "      <th>0</th>\n",
       "      <td>16h00</td>\n",
       "      <td>Sábado</td>\n",
       "      <td>2000-07-29</td>\n",
       "      <td>FLUMINENSE</td>\n",
       "      <td>BAHIA</td>\n",
       "      <td>Fluminense</td>\n",
       "      <td>1ª Rodada</td>\n",
       "      <td>MARACANÃ</td>\n",
       "      <td>2</td>\n",
       "      <td>0</td>\n",
       "      <td>RJ</td>\n",
       "      <td>BA</td>\n",
       "      <td>RJ</td>\n",
       "    </tr>\n",
       "    <tr>\n",
       "      <th>1</th>\n",
       "      <td>16h00</td>\n",
       "      <td>Sábado</td>\n",
       "      <td>2000-07-29</td>\n",
       "      <td>VASCO</td>\n",
       "      <td>SPORT</td>\n",
       "      <td>Sport</td>\n",
       "      <td>1ª Rodada</td>\n",
       "      <td>SÃO JANUÁRIO</td>\n",
       "      <td>0</td>\n",
       "      <td>2</td>\n",
       "      <td>RJ</td>\n",
       "      <td>PE</td>\n",
       "      <td>PE</td>\n",
       "    </tr>\n",
       "    <tr>\n",
       "      <th>2</th>\n",
       "      <td>16h00</td>\n",
       "      <td>Sábado</td>\n",
       "      <td>2000-07-29</td>\n",
       "      <td>VITÓRIA</td>\n",
       "      <td>PALMEIRAS</td>\n",
       "      <td>Vitória</td>\n",
       "      <td>1ª Rodada</td>\n",
       "      <td>BARRADÃO</td>\n",
       "      <td>4</td>\n",
       "      <td>1</td>\n",
       "      <td>ES</td>\n",
       "      <td>SP</td>\n",
       "      <td>ES</td>\n",
       "    </tr>\n",
       "    <tr>\n",
       "      <th>3</th>\n",
       "      <td>17h00</td>\n",
       "      <td>Domingo</td>\n",
       "      <td>2000-07-30</td>\n",
       "      <td>BOTAFOGO-RJ</td>\n",
       "      <td>ATLÉTICO-MG</td>\n",
       "      <td>-</td>\n",
       "      <td>1ª Rodada</td>\n",
       "      <td>CAIO MARTINS</td>\n",
       "      <td>0</td>\n",
       "      <td>0</td>\n",
       "      <td>RJ</td>\n",
       "      <td>MG</td>\n",
       "      <td>Empate</td>\n",
       "    </tr>\n",
       "    <tr>\n",
       "      <th>4</th>\n",
       "      <td>18h30</td>\n",
       "      <td>Domingo</td>\n",
       "      <td>2000-07-30</td>\n",
       "      <td>JUVENTUDE</td>\n",
       "      <td>FLAMENGO</td>\n",
       "      <td>-</td>\n",
       "      <td>1ª Rodada</td>\n",
       "      <td>ALFREDO JACONI</td>\n",
       "      <td>1</td>\n",
       "      <td>1</td>\n",
       "      <td>RS</td>\n",
       "      <td>RJ</td>\n",
       "      <td>Empate</td>\n",
       "    </tr>\n",
       "  </tbody>\n",
       "</table>\n",
       "</div>"
      ],
      "text/plain": [
       "  Horário      Dia       Data      Clube_1      Clube_2    Vencedor  \\\n",
       "0   16h00   Sábado 2000-07-29   FLUMINENSE        BAHIA  Fluminense   \n",
       "1   16h00   Sábado 2000-07-29        VASCO        SPORT       Sport   \n",
       "2   16h00   Sábado 2000-07-29      VITÓRIA    PALMEIRAS     Vitória   \n",
       "3   17h00  Domingo 2000-07-30  BOTAFOGO-RJ  ATLÉTICO-MG           -   \n",
       "4   18h30  Domingo 2000-07-30    JUVENTUDE     FLAMENGO           -   \n",
       "\n",
       "      Rodada           Arena  Clube_1_Gols  Clube_2_Gols Clube_1_Estado  \\\n",
       "0  1ª Rodada        MARACANÃ             2             0             RJ   \n",
       "1  1ª Rodada    SÃO JANUÁRIO             0             2             RJ   \n",
       "2  1ª Rodada        BARRADÃO             4             1             ES   \n",
       "3  1ª Rodada    CAIO MARTINS             0             0             RJ   \n",
       "4  1ª Rodada  ALFREDO JACONI             1             1             RS   \n",
       "\n",
       "  Clube_2_Estado Estado_Clube_Vencedor  \n",
       "0             BA                    RJ  \n",
       "1             PE                    PE  \n",
       "2             SP                    ES  \n",
       "3             MG                Empate  \n",
       "4             RJ                Empate  "
      ]
     },
     "execution_count": 2,
     "metadata": {},
     "output_type": "execute_result"
    }
   ],
   "source": [
    "data_path = os.path.join(\"..\", \"data\", \"campeonato-brasileiro-full.csv\")\n",
    "data = pd.read_csv(data_path, parse_dates=[\"Data\"])\n",
    "data[\"Clube 1\"] = data[\"Clube 1\"].str.upper()\n",
    "data[\"Clube 2\"] = data[\"Clube 2\"].str.upper()\n",
    "data[\"Arena\"] = data[\"Arena\"].str.upper()\n",
    "data.columns = [x.replace(\" \", \"_\") for x in data.columns]\n",
    "data.head()"
   ]
  },
  {
   "cell_type": "code",
   "execution_count": 3,
   "metadata": {},
   "outputs": [],
   "source": [
    "data = data.drop(columns=[\"Horário\", \"Estado_Clube_Vencedor\", \"Rodada\", \"Dia\", \"Vencedor\", \"Arena\"])\n",
    "data = data.query(\"Data>='2006'\")"
   ]
  },
  {
   "cell_type": "code",
   "execution_count": 4,
   "metadata": {},
   "outputs": [
    {
     "data": {
      "text/html": [
       "<div>\n",
       "<style scoped>\n",
       "    .dataframe tbody tr th:only-of-type {\n",
       "        vertical-align: middle;\n",
       "    }\n",
       "\n",
       "    .dataframe tbody tr th {\n",
       "        vertical-align: top;\n",
       "    }\n",
       "\n",
       "    .dataframe thead th {\n",
       "        text-align: right;\n",
       "    }\n",
       "</style>\n",
       "<table border=\"1\" class=\"dataframe\">\n",
       "  <thead>\n",
       "    <tr style=\"text-align: right;\">\n",
       "      <th></th>\n",
       "      <th>Data</th>\n",
       "      <th>Clube_1</th>\n",
       "      <th>Clube_2</th>\n",
       "      <th>Clube_1_Gols</th>\n",
       "      <th>Clube_2_Gols</th>\n",
       "      <th>Clube_1_Estado</th>\n",
       "      <th>Clube_2_Estado</th>\n",
       "    </tr>\n",
       "  </thead>\n",
       "  <tbody>\n",
       "    <tr>\n",
       "      <th>2619</th>\n",
       "      <td>2006-04-15</td>\n",
       "      <td>VASCO</td>\n",
       "      <td>INTERNACIONAL</td>\n",
       "      <td>1</td>\n",
       "      <td>1</td>\n",
       "      <td>RJ</td>\n",
       "      <td>RS</td>\n",
       "    </tr>\n",
       "    <tr>\n",
       "      <th>2620</th>\n",
       "      <td>2006-04-15</td>\n",
       "      <td>JUVENTUDE</td>\n",
       "      <td>PARANÁ</td>\n",
       "      <td>1</td>\n",
       "      <td>0</td>\n",
       "      <td>RS</td>\n",
       "      <td>PR</td>\n",
       "    </tr>\n",
       "    <tr>\n",
       "      <th>2621</th>\n",
       "      <td>2006-04-16</td>\n",
       "      <td>SANTA CRUZ</td>\n",
       "      <td>FIGUEIRENSE</td>\n",
       "      <td>0</td>\n",
       "      <td>0</td>\n",
       "      <td>PE</td>\n",
       "      <td>SC</td>\n",
       "    </tr>\n",
       "    <tr>\n",
       "      <th>2622</th>\n",
       "      <td>2006-04-16</td>\n",
       "      <td>GOIÁS</td>\n",
       "      <td>SANTOS</td>\n",
       "      <td>0</td>\n",
       "      <td>0</td>\n",
       "      <td>GO</td>\n",
       "      <td>SP</td>\n",
       "    </tr>\n",
       "    <tr>\n",
       "      <th>2623</th>\n",
       "      <td>2006-04-16</td>\n",
       "      <td>BOTAFOGO-RJ</td>\n",
       "      <td>FORTALEZA</td>\n",
       "      <td>1</td>\n",
       "      <td>0</td>\n",
       "      <td>RJ</td>\n",
       "      <td>CE</td>\n",
       "    </tr>\n",
       "  </tbody>\n",
       "</table>\n",
       "</div>"
      ],
      "text/plain": [
       "           Data      Clube_1        Clube_2  Clube_1_Gols  Clube_2_Gols  \\\n",
       "2619 2006-04-15        VASCO  INTERNACIONAL             1             1   \n",
       "2620 2006-04-15    JUVENTUDE         PARANÁ             1             0   \n",
       "2621 2006-04-16   SANTA CRUZ    FIGUEIRENSE             0             0   \n",
       "2622 2006-04-16        GOIÁS         SANTOS             0             0   \n",
       "2623 2006-04-16  BOTAFOGO-RJ      FORTALEZA             1             0   \n",
       "\n",
       "     Clube_1_Estado Clube_2_Estado  \n",
       "2619             RJ             RS  \n",
       "2620             RS             PR  \n",
       "2621             PE             SC  \n",
       "2622             GO             SP  \n",
       "2623             RJ             CE  "
      ]
     },
     "execution_count": 4,
     "metadata": {},
     "output_type": "execute_result"
    }
   ],
   "source": [
    "data.head()"
   ]
  },
  {
   "cell_type": "code",
   "execution_count": 5,
   "metadata": {},
   "outputs": [
    {
     "data": {
      "text/html": [
       "<div>\n",
       "<style scoped>\n",
       "    .dataframe tbody tr th:only-of-type {\n",
       "        vertical-align: middle;\n",
       "    }\n",
       "\n",
       "    .dataframe tbody tr th {\n",
       "        vertical-align: top;\n",
       "    }\n",
       "\n",
       "    .dataframe thead th {\n",
       "        text-align: right;\n",
       "    }\n",
       "</style>\n",
       "<table border=\"1\" class=\"dataframe\">\n",
       "  <thead>\n",
       "    <tr style=\"text-align: right;\">\n",
       "      <th></th>\n",
       "      <th>Data</th>\n",
       "      <th>Clube_1</th>\n",
       "      <th>Clube_2</th>\n",
       "      <th>Clube_1_Gols</th>\n",
       "      <th>Clube_2_Gols</th>\n",
       "      <th>Clube_1_Estado</th>\n",
       "      <th>Clube_2_Estado</th>\n",
       "      <th>Vencedor_Cat</th>\n",
       "    </tr>\n",
       "  </thead>\n",
       "  <tbody>\n",
       "    <tr>\n",
       "      <th>2619</th>\n",
       "      <td>2006-04-15</td>\n",
       "      <td>VASCO</td>\n",
       "      <td>INTERNACIONAL</td>\n",
       "      <td>1</td>\n",
       "      <td>1</td>\n",
       "      <td>RJ</td>\n",
       "      <td>RS</td>\n",
       "      <td>Empate</td>\n",
       "    </tr>\n",
       "    <tr>\n",
       "      <th>2620</th>\n",
       "      <td>2006-04-15</td>\n",
       "      <td>JUVENTUDE</td>\n",
       "      <td>PARANÁ</td>\n",
       "      <td>1</td>\n",
       "      <td>0</td>\n",
       "      <td>RS</td>\n",
       "      <td>PR</td>\n",
       "      <td>Mandante</td>\n",
       "    </tr>\n",
       "    <tr>\n",
       "      <th>2621</th>\n",
       "      <td>2006-04-16</td>\n",
       "      <td>SANTA CRUZ</td>\n",
       "      <td>FIGUEIRENSE</td>\n",
       "      <td>0</td>\n",
       "      <td>0</td>\n",
       "      <td>PE</td>\n",
       "      <td>SC</td>\n",
       "      <td>Empate</td>\n",
       "    </tr>\n",
       "    <tr>\n",
       "      <th>2622</th>\n",
       "      <td>2006-04-16</td>\n",
       "      <td>GOIÁS</td>\n",
       "      <td>SANTOS</td>\n",
       "      <td>0</td>\n",
       "      <td>0</td>\n",
       "      <td>GO</td>\n",
       "      <td>SP</td>\n",
       "      <td>Empate</td>\n",
       "    </tr>\n",
       "    <tr>\n",
       "      <th>2623</th>\n",
       "      <td>2006-04-16</td>\n",
       "      <td>BOTAFOGO-RJ</td>\n",
       "      <td>FORTALEZA</td>\n",
       "      <td>1</td>\n",
       "      <td>0</td>\n",
       "      <td>RJ</td>\n",
       "      <td>CE</td>\n",
       "      <td>Mandante</td>\n",
       "    </tr>\n",
       "  </tbody>\n",
       "</table>\n",
       "</div>"
      ],
      "text/plain": [
       "           Data      Clube_1        Clube_2  Clube_1_Gols  Clube_2_Gols  \\\n",
       "2619 2006-04-15        VASCO  INTERNACIONAL             1             1   \n",
       "2620 2006-04-15    JUVENTUDE         PARANÁ             1             0   \n",
       "2621 2006-04-16   SANTA CRUZ    FIGUEIRENSE             0             0   \n",
       "2622 2006-04-16        GOIÁS         SANTOS             0             0   \n",
       "2623 2006-04-16  BOTAFOGO-RJ      FORTALEZA             1             0   \n",
       "\n",
       "     Clube_1_Estado Clube_2_Estado Vencedor_Cat  \n",
       "2619             RJ             RS       Empate  \n",
       "2620             RS             PR     Mandante  \n",
       "2621             PE             SC       Empate  \n",
       "2622             GO             SP       Empate  \n",
       "2623             RJ             CE     Mandante  "
      ]
     },
     "execution_count": 5,
     "metadata": {},
     "output_type": "execute_result"
    }
   ],
   "source": [
    "def return_match_result(row):\n",
    "    home_score = row[\"Clube_1_Gols\"]\n",
    "    away_score = row[\"Clube_2_Gols\"]\n",
    "    if home_score > away_score:\n",
    "        return \"Mandante\"\n",
    "    elif away_score > home_score:\n",
    "        return \"Visitante\"\n",
    "    else:\n",
    "        return \"Empate\"\n",
    "    \n",
    "data[\"Vencedor_Cat\"] = data.apply(return_match_result, axis=1)\n",
    "data = data.sort_values(\"Data\", ascending=True)\n",
    "data.head()"
   ]
  },
  {
   "cell_type": "code",
   "execution_count": 6,
   "metadata": {},
   "outputs": [],
   "source": [
    "def get_historical_results(row, cat: str, past_match: int, df: pd.DataFrame):\n",
    "    \n",
    "    if cat == 'home':\n",
    "        variable = 'Clube_1'\n",
    "    else:\n",
    "        variable = \"Clube_2\"\n",
    "        \n",
    "    club = row[variable]\n",
    "    \n",
    "    match_day = row[\"Data\"].date()\n",
    "    aux = df.query(\"{}=='{}' and Data<'{}'\".format(variable, club, match_day)).tail(past_match)\n",
    "    \n",
    "    return aux[\"{}_Gols\".format(variable)].sum()"
   ]
  },
  {
   "cell_type": "code",
   "execution_count": 7,
   "metadata": {},
   "outputs": [],
   "source": [
    "cats = [\"home\", \"away\"]\n",
    "pasts = [1, 2, 3]\n",
    "\n",
    "combinations = itertools.product(cats, pasts)\n",
    "df_aux = data\n",
    "\n",
    "for c in combinations:\n",
    "    categorie = c[0]\n",
    "    past_matchs = c[1]\n",
    "    column_name = \"{}_gols_ultimos_{}\".format(categorie, str(past_matchs))\n",
    "    \n",
    "    data[column_name] = data.apply(get_historical_results, axis=1, cat=categorie, past_match=past_matchs, df=df_aux)"
   ]
  },
  {
   "cell_type": "code",
   "execution_count": 8,
   "metadata": {},
   "outputs": [],
   "source": [
    "#aux = data.melt(id_vars=[\"Data\", \"Vencedor_Cat\"], value_vars=[\"Clube_1\", \"Clube_2\"]).replace([\"Clube_1\", \"Clube_2\"],\n",
    "#[\"Mandante\", \"Visitante\"])"
   ]
  },
  {
   "cell_type": "code",
   "execution_count": 9,
   "metadata": {},
   "outputs": [],
   "source": [
    "data = data.drop(columns=[\"Clube_1_Gols\", \"Clube_2_Gols\"])"
   ]
  },
  {
   "cell_type": "code",
   "execution_count": 10,
   "metadata": {},
   "outputs": [],
   "source": [
    "data = data.drop(columns=[\"Clube_1\", \"Clube_2\"])"
   ]
  },
  {
   "cell_type": "code",
   "execution_count": 11,
   "metadata": {},
   "outputs": [],
   "source": [
    "#data = data.query(\"Vencedor_Cat!='Empate'\")"
   ]
  },
  {
   "cell_type": "code",
   "execution_count": 12,
   "metadata": {},
   "outputs": [],
   "source": [
    "y = data[\"Vencedor_Cat\"]\n",
    "x = pd.get_dummies(data.drop(columns=[\"Data\", \"Vencedor_Cat\"]))"
   ]
  },
  {
   "cell_type": "code",
   "execution_count": 13,
   "metadata": {},
   "outputs": [],
   "source": [
    "from sklearn.tree import DecisionTreeClassifier\n",
    "from sklearn.model_selection import train_test_split\n",
    "from sklearn.metrics import classification_report, accuracy_score\n",
    "\n",
    "x_train, x_test, y_train, y_test = train_test_split(x, y, test_size=.2)"
   ]
  },
  {
   "cell_type": "code",
   "execution_count": 14,
   "metadata": {},
   "outputs": [
    {
     "data": {
      "text/plain": [
       "DecisionTreeClassifier(max_depth=5)"
      ]
     },
     "execution_count": 14,
     "metadata": {},
     "output_type": "execute_result"
    }
   ],
   "source": [
    "clf = DecisionTreeClassifier(max_depth=5)\n",
    "clf.fit(x_train, y_train)"
   ]
  },
  {
   "cell_type": "code",
   "execution_count": 15,
   "metadata": {},
   "outputs": [],
   "source": [
    "y_pred = clf.predict(x_test)"
   ]
  },
  {
   "cell_type": "code",
   "execution_count": 16,
   "metadata": {},
   "outputs": [
    {
     "name": "stdout",
     "output_type": "stream",
     "text": [
      "              precision    recall  f1-score   support\n",
      "\n",
      "      Empate       0.24      0.04      0.06       277\n",
      "    Mandante       0.49      0.96      0.65       521\n",
      "   Visitante       0.50      0.01      0.02       266\n",
      "\n",
      "    accuracy                           0.48      1064\n",
      "   macro avg       0.41      0.34      0.25      1064\n",
      "weighted avg       0.43      0.48      0.34      1064\n",
      "\n"
     ]
    }
   ],
   "source": [
    "print(classification_report(y_test, y_pred))"
   ]
  },
  {
   "cell_type": "code",
   "execution_count": 17,
   "metadata": {},
   "outputs": [
    {
     "data": {
      "text/plain": [
       "0.4830827067669173"
      ]
     },
     "execution_count": 17,
     "metadata": {},
     "output_type": "execute_result"
    }
   ],
   "source": [
    "accuracy_score(y_test, y_pred)"
   ]
  }
 ],
 "metadata": {
  "hide_input": false,
  "kernelspec": {
   "display_name": "Python 3",
   "language": "python",
   "name": "python3"
  },
  "language_info": {
   "codemirror_mode": {
    "name": "ipython",
    "version": 3
   },
   "file_extension": ".py",
   "mimetype": "text/x-python",
   "name": "python",
   "nbconvert_exporter": "python",
   "pygments_lexer": "ipython3",
   "version": "3.8.2"
  },
  "toc": {
   "base_numbering": 1,
   "nav_menu": {},
   "number_sections": true,
   "sideBar": true,
   "skip_h1_title": false,
   "title_cell": "Table of Contents",
   "title_sidebar": "Contents",
   "toc_cell": false,
   "toc_position": {},
   "toc_section_display": true,
   "toc_window_display": false
  }
 },
 "nbformat": 4,
 "nbformat_minor": 4
}
